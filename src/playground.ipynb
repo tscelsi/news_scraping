{
 "cells": [
  {
   "cell_type": "code",
   "execution_count": 2,
   "metadata": {},
   "outputs": [],
   "source": [
    "from engine import Engine"
   ]
  },
  {
   "cell_type": "markdown",
   "metadata": {},
   "source": [
    "### TheAge Example\n",
    "\n",
    "Here we scrape the business/markets section of The Age and save to db. We create a curried version of the list_articles function so that it can be passed to engine."
   ]
  },
  {
   "cell_type": "code",
   "execution_count": 3,
   "metadata": {},
   "outputs": [
    {
     "name": "stderr",
     "output_type": "stream",
     "text": [
      "INFO:engine:Getting article urls...\n",
      "INFO:engine:Got 18 article urls. Beginning article text retrieval...\n",
      "INFO:engine:Found text for 18 articles. Updating in db...\n",
      "INFO:engine:updated 0 articles. inserted 0 articles.\n"
     ]
    }
   ],
   "source": [
    "config_path = \"templates/bbc.cfg\"\n",
    "engine = Engine(config_path)\n",
    "articles = await engine.run()"
   ]
  },
  {
   "cell_type": "code",
   "execution_count": 3,
   "metadata": {},
   "outputs": [],
   "source": [
    "config_path = \"templates/newsomau_banking.cfg\"\n",
    "engine = Engine(config_path)\n",
    "newscomau_articles = await engine.run()"
   ]
  }
 ],
 "metadata": {
  "kernelspec": {
   "display_name": "news_scraping-7nihIaGs",
   "language": "python",
   "name": "python3"
  },
  "language_info": {
   "codemirror_mode": {
    "name": "ipython",
    "version": 3
   },
   "file_extension": ".py",
   "mimetype": "text/x-python",
   "name": "python",
   "nbconvert_exporter": "python",
   "pygments_lexer": "ipython3",
   "version": "3.10.5"
  },
  "orig_nbformat": 4,
  "vscode": {
   "interpreter": {
    "hash": "d17705aa10bf5f6a485faaacec7ad9ee71f1e8e3a532df8aa6fd3ece6d4ac1ad"
   }
  }
 },
 "nbformat": 4,
 "nbformat_minor": 2
}
