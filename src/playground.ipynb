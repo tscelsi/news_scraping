{
 "cells": [
  {
   "cell_type": "code",
   "execution_count": 1,
   "metadata": {},
   "outputs": [],
   "source": [
    "import httpx\n",
    "import functools\n",
    "from engine import Engine\n",
    "from theage import list_articles, get_article\n",
    "from newscomau import list_articles, get_article"
   ]
  },
  {
   "cell_type": "markdown",
   "metadata": {},
   "source": [
    "### TheAge Example\n",
    "\n",
    "Here we scrape the business/markets section of The Age and save to db. We create a curried version of the list_articles function so that it can be passed to engine."
   ]
  },
  {
   "cell_type": "code",
   "execution_count": 4,
   "metadata": {},
   "outputs": [],
   "source": [
    "list_fn = functools.partial(list_articles, 'businesscompanies', 4, 1)  # gets 4 pages\n",
    "get_fn = get_article\n",
    "engine = Engine(list_fn, get_fn)\n",
    "articles = await engine.run()"
   ]
  },
  {
   "cell_type": "code",
   "execution_count": 3,
   "metadata": {},
   "outputs": [],
   "source": [
    "list_fn = functools.partial(list_articles, 'finance/markets/world-markets')\n",
    "get_fn = get_article\n",
    "engine = Engine(list_fn, get_fn)\n",
    "articles = await engine.run()"
   ]
  },
  {
   "cell_type": "code",
   "execution_count": null,
   "metadata": {},
   "outputs": [],
   "source": []
  }
 ],
 "metadata": {
  "kernelspec": {
   "display_name": "news_scraping-7nihIaGs",
   "language": "python",
   "name": "python3"
  },
  "language_info": {
   "codemirror_mode": {
    "name": "ipython",
    "version": 3
   },
   "file_extension": ".py",
   "mimetype": "text/x-python",
   "name": "python",
   "nbconvert_exporter": "python",
   "pygments_lexer": "ipython3",
   "version": "3.10.5"
  },
  "orig_nbformat": 4,
  "vscode": {
   "interpreter": {
    "hash": "d17705aa10bf5f6a485faaacec7ad9ee71f1e8e3a532df8aa6fd3ece6d4ac1ad"
   }
  }
 },
 "nbformat": 4,
 "nbformat_minor": 2
}
