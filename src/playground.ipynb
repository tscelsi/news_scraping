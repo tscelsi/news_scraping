{
 "cells": [
  {
   "cell_type": "code",
   "execution_count": 1,
   "metadata": {},
   "outputs": [],
   "source": [
    "import functools\n",
    "from engine import Engine"
   ]
  },
  {
   "cell_type": "markdown",
   "metadata": {},
   "source": [
    "### TheAge Example\n",
    "\n",
    "Here we scrape the business/markets section of The Age and save to db. We create a curried version of the list_articles function so that it can be passed to engine."
   ]
  },
  {
   "cell_type": "code",
   "execution_count": 4,
   "metadata": {},
   "outputs": [],
   "source": [
    "config_path = \"templates/theage_businessmarkets.cfg\"\n",
    "engine = Engine(config_path)\n",
    "theage_articles = await engine.run()"
   ]
  },
  {
   "cell_type": "code",
   "execution_count": 3,
   "metadata": {},
   "outputs": [],
   "source": [
    "config_path = \"templates/newsomau_banking.cfg\"\n",
    "engine = Engine(config_path)\n",
    "newscomau_articles = await engine.run()"
   ]
  },
  {
   "cell_type": "code",
   "execution_count": 47,
   "metadata": {},
   "outputs": [],
   "source": [
    "import httpx\n",
    "from scrapers.newscorp.newscomau import list_articles, get_article\n",
    "async with httpx.AsyncClient() as client:\n",
    "    res = await client.get(\"https://www.theguardian.com/technology/all\")"
   ]
  },
  {
   "cell_type": "code",
   "execution_count": 67,
   "metadata": {},
   "outputs": [],
   "source": [
    "from bs4 import BeautifulSoup\n",
    "from consts import HEADERS\n",
    "soup = BeautifulSoup(res.text, 'html.parser')"
   ]
  },
  {
   "cell_type": "code",
   "execution_count": 62,
   "metadata": {},
   "outputs": [
    {
     "data": {
      "text/plain": [
       "['https://www.theguardian.com/politics/2023/mar/02/why-matt-hancock-is-almost-to-be-pitied',\n",
       " 'https://www.theguardian.com/technology/2023/mar/02/near-50-per-cent-fall-in-silvergate-shares-over-ftx-exposure-prompts-survival-doubts',\n",
       " 'https://www.theguardian.com/science/2023/mar/02/human-augmentation-with-robotic-body-parts-is-at-hand-say-scientists',\n",
       " 'https://www.theguardian.com/business/2023/mar/02/cyber-attack-on-wh-smith-targets-personal-staff-details',\n",
       " 'https://www.theguardian.com/tv-and-radio/2023/mar/02/the-light-we-carry-podcast-michelle-obama-oprah-winfrey',\n",
       " 'https://www.theguardian.com/technology/2023/mar/02/amazon-safety-citations-osha-department-of-justice',\n",
       " 'https://www.theguardian.com/technology/2023/mar/01/spotify-ai-dj-service-testing',\n",
       " 'https://www.theguardian.com/world/2023/mar/02/china-leading-us-in-technology-race-in-all-but-a-few-fields-thinktank-finds',\n",
       " 'https://www.theguardian.com/technology/2023/mar/01/elon-musk-tesla-fossil-fuels-economy',\n",
       " 'https://www.theguardian.com/world/2023/mar/02/romania-ion-ai-government-honorary-adviser-artificial-intelligence-pm-nicolae-ciuca',\n",
       " 'https://www.theguardian.com/science/2023/mar/01/uk-satellite-launches-mps-committee-virgin-orbit-failed-mission',\n",
       " 'https://www.theguardian.com/technology/2023/mar/01/one-of-nso-groups-founders-emerges-as-new-majority-owner',\n",
       " 'https://www.theguardian.com/technology/2023/mar/01/house-committee-advances-legislation-ban-tiktok',\n",
       " 'https://www.theguardian.com/technology/2023/mar/01/under-18-tiktok-users-to-be-limited-to-one-hour-until-they-change-settings',\n",
       " 'https://www.theguardian.com/technology/2023/mar/01/father-reports-youtube-to-watchdog-over-harvesting-uk-childrens-data',\n",
       " 'https://www.theguardian.com/commentisfree/2023/mar/01/my-kids-often-baffle-me-but-at-least-we-agree-on-subtitles',\n",
       " 'https://www.theguardian.com/world/2023/mar/01/eksi-sozluk-why-turkey-blocked-its-most-popular-social-site',\n",
       " 'https://www.theguardian.com/technology/2023/mar/01/twitter-down-for-more-than-an-hour-around-world',\n",
       " 'https://www.theguardian.com/commentisfree/2023/mar/01/elon-musks-defense-of-scott-adams-shows-why-he-is-misguided-and-dangerous',\n",
       " 'https://www.theguardian.com/film/2023/mar/01/were-not-taking-care-of-it-why-film-preservation-should-be-prioritized']"
      ]
     },
     "execution_count": 62,
     "metadata": {},
     "output_type": "execute_result"
    }
   ],
   "source": [
    "[x.a['href'] for x in soup.findAll('div', {'class': 'fc-item'})]"
   ]
  },
  {
   "cell_type": "code",
   "execution_count": 68,
   "metadata": {},
   "outputs": [],
   "source": [
    "res = httpx.get(\"https://www.theguardian.com/politics/2023/mar/02/why-matt-hancock-is-almost-to-be-pitied\", headers=HEADERS)"
   ]
  },
  {
   "cell_type": "code",
   "execution_count": 69,
   "metadata": {},
   "outputs": [],
   "source": [
    "soup = BeautifulSoup(res.text, 'html.parser')"
   ]
  },
  {
   "cell_type": "code",
   "execution_count": 71,
   "metadata": {},
   "outputs": [],
   "source": [
    "tag_div = soup.find('div', {'class': 'dcr-1nx1rmt'})"
   ]
  },
  {
   "cell_type": "code",
   "execution_count": 78,
   "metadata": {},
   "outputs": [],
   "source": [
    "from utils import normalise_tags\n",
    "import json\n",
    "tags = normalise_tags(*[x.text for x in tag_div.findAll('li')])\n",
    "metadata = json.loads(soup.find(type='application/ld+json').text)"
   ]
  },
  {
   "cell_type": "code",
   "execution_count": 84,
   "metadata": {},
   "outputs": [],
   "source": [
    "body = soup.find('div', {'id': 'maincontent'}).text"
   ]
  },
  {
   "cell_type": "code",
   "execution_count": 87,
   "metadata": {},
   "outputs": [
    {
     "data": {
      "text/plain": [
       "{'@type': 'NewsArticle',\n",
       " '@context': 'https://schema.org',\n",
       " '@id': 'https://www.theguardian.com/politics/2023/mar/02/why-matt-hancock-is-almost-to-be-pitied',\n",
       " 'publisher': {'@type': 'Organization',\n",
       "  '@context': 'https://schema.org',\n",
       "  '@id': 'https://www.theguardian.com#publisher',\n",
       "  'name': 'The Guardian',\n",
       "  'url': 'https://www.theguardian.com/',\n",
       "  'logo': {'@type': 'ImageObject',\n",
       "   'url': 'https://uploads.guim.co.uk/2018/01/31/TheGuardian_AMP.png',\n",
       "   'width': 190,\n",
       "   'height': 60},\n",
       "  'sameAs': ['https://www.facebook.com/theguardian',\n",
       "   'https://twitter.com/guardian',\n",
       "   'https://www.youtube.com/user/TheGuardian']},\n",
       " 'isAccessibleForFree': True,\n",
       " 'isPartOf': {'@type': ['CreativeWork', 'Product'],\n",
       "  'name': 'The Guardian',\n",
       "  'productID': 'theguardian.com:basic'},\n",
       " 'image': ['https://i.guim.co.uk/img/media/a320b34f8a8dd01756643ac94e4eff8968029891/0_548_2333_1399/master/2333.jpg?width=1200&height=630&quality=85&auto=format&fit=crop&overlay-align=bottom%2Cleft&overlay-width=100p&overlay-base64=L2ltZy9zdGF0aWMvb3ZlcmxheXMvdGctZGVmYXVsdC5wbmc&enable=upscale&s=67042d2cfe06382c0370e17eddd5f2b1',\n",
       "  'https://i.guim.co.uk/img/media/a320b34f8a8dd01756643ac94e4eff8968029891/0_548_2333_1399/master/2333.jpg?width=1200&height=1200&quality=85&auto=format&fit=crop&s=0141feb93a3a493b1dbb1206161bbb32',\n",
       "  'https://i.guim.co.uk/img/media/a320b34f8a8dd01756643ac94e4eff8968029891/0_548_2333_1399/master/2333.jpg?width=1200&height=900&quality=85&auto=format&fit=crop&s=c4517bbf2e3eeedf5db47e114a6cd04c',\n",
       "  'https://i.guim.co.uk/img/media/a320b34f8a8dd01756643ac94e4eff8968029891/0_548_2333_1399/master/2333.jpg?width=1200&quality=85&auto=format&fit=max&s=2d877696f313516cc09e745bef18f8fb'],\n",
       " 'author': [{'@type': 'Person', 'name': 'Guardian staff reporter'}],\n",
       " 'datePublished': '2023-03-02T17:55:32.000Z',\n",
       " 'headline': 'Why Matt Hancock is (almost) to be pitied',\n",
       " 'dateModified': '2023-03-02T17:57:16.000Z',\n",
       " 'mainEntityOfPage': 'https://www.theguardian.com/politics/2023/mar/02/why-matt-hancock-is-almost-to-be-pitied'}"
      ]
     },
     "execution_count": 87,
     "metadata": {},
     "output_type": "execute_result"
    }
   ],
   "source": [
    "metadata[0]"
   ]
  },
  {
   "cell_type": "code",
   "execution_count": null,
   "metadata": {},
   "outputs": [],
   "source": []
  }
 ],
 "metadata": {
  "kernelspec": {
   "display_name": "news_scraping-7nihIaGs",
   "language": "python",
   "name": "python3"
  },
  "language_info": {
   "codemirror_mode": {
    "name": "ipython",
    "version": 3
   },
   "file_extension": ".py",
   "mimetype": "text/x-python",
   "name": "python",
   "nbconvert_exporter": "python",
   "pygments_lexer": "ipython3",
   "version": "3.10.5"
  },
  "orig_nbformat": 4,
  "vscode": {
   "interpreter": {
    "hash": "d17705aa10bf5f6a485faaacec7ad9ee71f1e8e3a532df8aa6fd3ece6d4ac1ad"
   }
  }
 },
 "nbformat": 4,
 "nbformat_minor": 2
}
