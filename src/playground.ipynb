{
 "cells": [
  {
   "cell_type": "code",
   "execution_count": 1,
   "metadata": {},
   "outputs": [],
   "source": [
    "import functools\n",
    "from engine import Engine"
   ]
  },
  {
   "cell_type": "markdown",
   "metadata": {},
   "source": [
    "### TheAge Example\n",
    "\n",
    "Here we scrape the business/markets section of The Age and save to db. We create a curried version of the list_articles function so that it can be passed to engine."
   ]
  },
  {
   "cell_type": "code",
   "execution_count": 4,
   "metadata": {},
   "outputs": [],
   "source": [
    "config_path = \"templates/theage_businessmarkets.cfg\"\n",
    "engine = Engine(config_path)\n",
    "theage_articles = await engine.run()"
   ]
  },
  {
   "cell_type": "code",
   "execution_count": 3,
   "metadata": {},
   "outputs": [],
   "source": [
    "config_path = \"templates/newsomau_banking.cfg\"\n",
    "engine = Engine(config_path)\n",
    "newscomau_articles = await engine.run()"
   ]
  },
  {
   "cell_type": "code",
   "execution_count": 7,
   "metadata": {},
   "outputs": [],
   "source": [
    "import httpx\n",
    "from bs4 import BeautifulSoup\n",
    "from consts import HEADERS"
   ]
  },
  {
   "cell_type": "code",
   "execution_count": 5,
   "metadata": {},
   "outputs": [],
   "source": [
    "res = httpx.get(\"https://www.afr.com/topic/fintech-hpb\")"
   ]
  },
  {
   "cell_type": "code",
   "execution_count": 8,
   "metadata": {},
   "outputs": [],
   "source": [
    "soup = BeautifulSoup(res.text, 'html.parser')"
   ]
  },
  {
   "cell_type": "code",
   "execution_count": 12,
   "metadata": {},
   "outputs": [],
   "source": [
    "res = httpx.get(\"https://api.afr.com/api/content/v0/assets/p5cp20\")"
   ]
  },
  {
   "cell_type": "code",
   "execution_count": 14,
   "metadata": {},
   "outputs": [],
   "source": [
    "from scrapers.theage.model import TheAgeArticle\n",
    "article = TheAgeArticle(**res.json(), url=\"\")"
   ]
  },
  {
   "cell_type": "code",
   "execution_count": 1,
   "metadata": {},
   "outputs": [],
   "source": [
    "from scrapers.afr import get_article"
   ]
  },
  {
   "cell_type": "code",
   "execution_count": 2,
   "metadata": {},
   "outputs": [],
   "source": [
    "import httpx\n",
    "async with httpx.AsyncClient() as client:\n",
    "    article = await get_article(client, \"p5cp20\")"
   ]
  },
  {
   "cell_type": "code",
   "execution_count": 3,
   "metadata": {},
   "outputs": [
    {
     "data": {
      "text/plain": [
       "Article(outlet='afr', url='p5cp20', created=datetime.datetime(2023, 3, 2, 16, 17, 37), modified=datetime.datetime(2023, 3, 2, 19, 58, 35), published=datetime.datetime(2023, 3, 2, 17, 53, 45), title='ASX to rise, US 10-year yield surges, Tesla tumbles', body='<p>Australian shares were poised to open higher, in line with New York as investors continue to balance economic news in both Europe and the US with the prospect of a still higher peak for interest rates.</p><p>ASX futures were up 22 points or 0.31 per cent to 7224 near 6.50am AEDT, reversing earlier modest losses.</p><ul><li>On Wall St at 2.55pm: Dow +0.8% S&amp;P +0.5% Nasdaq +0.4%</li><li>In New York: BHP +2.7% Rio +1.1% Atlassian +2,3%</li><li>Tesla -6.4% Apple +0.3% Amazon -1.1%</li></ul><p>The local currency dropped 0.5 per cent; the Bloomberg dollar spot index was 0.4 per cent higher.</p><p>On bitstamp.net, bitcoin was 0.2 per cent higher to $US23,459 at 6.55am AEDT. Silvergate Capital’s shares shed near 50 per cent to a record low after the company said it may not survive, and some partners cut ties to the crypto-friendly bank.</p><p>The yield on the US 10-year note was 8 basis points higher to 4.07 per cent at 2.57pm in New York. The two-year was at 4.90 per cent, the five-year at 4.32 per cent and the yield on the 30-year bond at 4.02 per cent.</p><p>In an opinion comment for Bloomberg, Mohamed El-Erian said the Federal Reserve has fallen behind on its inflation fight for the third time in just two years and its already damaged credibility is at further risk.</p><p>El-Erian said the peak will be higher, and it’s more a question of the speed at which the Fed will reach that point.</p><p>“It is often said that the first rule of finding yourself in a hole is to stop digging. With the Fed having already dug itself a deep hole, it is no longer crystal clear to me what the right policy step should be now. I suspect I am not the only one.”</p><p>Mortgage rates in the US increased this past week, further crimping affordability ahead of what’s usually the homebuying market’s busiest season.</p><p>The average for a 30-year, fixed loan was 6.65 per cent, up from 6.5 per cent last week, Freddie Mac said in a statement.</p><p>Eurozone inflation slowed less than expected, putting more pressure on rates. February’s headline figure of 8.5 per cent exceeded the 8.3 per cent median estimate in a Bloomberg survey of economists and compares with an advance of 8.6 per cent in January.</p><p>Core inflation — the key focus right now for policymakers — quickened to 5.6 per cent from 5.3 per cent.</p><p>In the US overnight, applications for unemployment benefits eased last week, a sign of continuing strength in the labour market.</p><h2>Today\\'s agenda</h2><p>Local: Housing finance January; NZ February ANZ consumer confidence</p><p>Overseas data: February services PMIs from China, Eurozone, UK and US; Eurozone January PPI</p><h2>Other top stories</h2><p><x-placeholder id=\"f15e84675f5c8e82603d27900b42560a07a91d4d\"></x-placeholder> Experts including Geoff Wilson say the proposal to tax unrealised gains in $3 million-plus super accounts could force retirees to sell shares at a loss.</p><p><x-placeholder id=\"e5bbcb4217760a12be9f805b66360de434f2f3db\"></x-placeholder> The super wars present an awkward choice for teal and other independents, who not only campaigned heavily on integrity, but represent the wealthiest electorates, writes Phillip Coorey.</p><p><x-placeholder id=\"c4d458abe21002df182763630f6f1f4aa4ecd856\"></x-placeholder> The deceptively simply solution is a flat, low-rate tax and small concession for superannuation contributions.</p><h2>Market highlights</h2><p>ASX futures up 22 points or 0.31% to 7224 near 6.50am AEDT</p><ul><li>AUD -0.5% to 67.28 US cents</li><li>Bitcoin +0.2% to $US23,459 at 6.55am AEDT</li><li>On Wall St at 2.55pm: Dow +0.8% S&amp;P +0.5% Nasdaq +0.4%</li><li>In New York: BHP +2.7% Rio +1.1% Atlassian +2,3%</li><li>Tesla -6.4% Apple +0.3% Amazon -1.1%</li><li>In Europe: Stoxx 50 +0.6% FTSE +0.4% CAC +0.7% DAX +0.2%</li><li>Spot gold -0.01% to $US1836.54/oz at 2.05pm in New York</li><li>Brent crude +0.2% to $US84.49 a barrel</li><li>Iron ore +0.2% to $US126.30 a tonne</li><li>10-year yield: US 4.07% Australia 3.86% Germany 2.74%</li><li>US prices as of 2.57pm in New York</li></ul><h2>United States</h2><p>Salesforce surged by the most in almost three years after raising its forecast for profit margins and doubling stock buyback plans amid pressure from activist investors.</p><p>Operating margin — which has become a very closely watched metric for Salesforce — will be about 27 per cent in the fiscal 2024 that runs through next January, the software giant said. That trounced an average analyst estimate of 22.4 per cent in part due to recent jobs cuts.</p><p>In contrast, Silvergate Capital shares sank to a record low after the cryptocurrency-friendly bank said it wouldn’t be able to file its annual report on time and was reviewing whether it can remain viable.</p><p>Snowflake shares fell the most in almost 10 months after the business software company gave a disappointing sales outlook.</p><p>The company said product revenue will grow about 45 per cent to as much as $US573 million in the fiscal first quarter, which ends in April. Analysts were expecting $US582.1 million on average, according to data compiled by Bloomberg.</p><p>Credit Suisse’s take on February: “The S&amp;P 500 fell -2.4 per cent (including dividends) in February on multiple compression, while EPS was unchanged. Growth (-1.2 per cent) outperformed Value (-3.5 per cent), while Small Caps (-1.7 per cent) outperformed Large (-2.4 per cent). All sectors within the S&amp;P 500 delivered negative returns, save Technology, which was marginally positive (+0.4 per cent).”</p><h2>Commodities</h2><p>Lithium producer SQM delivered an upbeat outlook for the battery metal, forecasting demand to grow by about 25 per cent this year and stepping up investments to meet booming electric-vehicle sales.</p><p>Positive guidance Thursday from the world’s No. 2 lithium producer contrasts with that of Goldman Sachs’ analysts, who warned last month that a recent price pullback from record highs has much further to run given falling Chinese demand.</p><p>The contrasting sentiment centres around the impact of China removing EV subsidies and COVID-related disruptions at a time of growing supply. Santiago-based SQM said on Thursday that fundamentals remain strong, with EV sales improving in recent weeks in China and increasing in the US following the Inflation Reduction Act.</p><p>In its quarterly earnings statement, Soc. Quimica &amp; Minera de Chile SA, as SQM is formally known, laid out a $US3.4 billion capital expenditure plan for 2023 to 2025, with more than half earmarked for the battery metal.</p><x-placeholder id=\"4c354413c73e529c0fe99c1710563f3255dd119e\"></x-placeholder>', wordCount=1038, tags=['before-the-bell', 'world-markets', 'shares', 'currencies', 'commodities', 'bonds', 'markets', 'equity-markets'], extra=None)"
      ]
     },
     "execution_count": 3,
     "metadata": {},
     "output_type": "execute_result"
    }
   ],
   "source": [
    "article"
   ]
  },
  {
   "cell_type": "code",
   "execution_count": 4,
   "metadata": {},
   "outputs": [
    {
     "data": {
      "text/plain": [
       "{'outlet': 'afr',\n",
       " 'url': 'p5cp20',\n",
       " 'created': datetime.datetime(2023, 3, 2, 16, 17, 37),\n",
       " 'modified': datetime.datetime(2023, 3, 2, 19, 58, 35),\n",
       " 'published': datetime.datetime(2023, 3, 2, 17, 53, 45),\n",
       " 'title': 'ASX to rise, US 10-year yield surges, Tesla tumbles',\n",
       " 'body': '<p>Australian shares were poised to open higher, in line with New York as investors continue to balance economic news in both Europe and the US with the prospect of a still higher peak for interest rates.</p><p>ASX futures were up 22 points or 0.31 per cent to 7224 near 6.50am AEDT, reversing earlier modest losses.</p><ul><li>On Wall St at 2.55pm: Dow +0.8% S&amp;P +0.5% Nasdaq +0.4%</li><li>In New York: BHP +2.7% Rio +1.1% Atlassian +2,3%</li><li>Tesla -6.4% Apple +0.3% Amazon -1.1%</li></ul><p>The local currency dropped 0.5 per cent; the Bloomberg dollar spot index was 0.4 per cent higher.</p><p>On bitstamp.net, bitcoin was 0.2 per cent higher to $US23,459 at 6.55am AEDT. Silvergate Capital’s shares shed near 50 per cent to a record low after the company said it may not survive, and some partners cut ties to the crypto-friendly bank.</p><p>The yield on the US 10-year note was 8 basis points higher to 4.07 per cent at 2.57pm in New York. The two-year was at 4.90 per cent, the five-year at 4.32 per cent and the yield on the 30-year bond at 4.02 per cent.</p><p>In an opinion comment for Bloomberg, Mohamed El-Erian said the Federal Reserve has fallen behind on its inflation fight for the third time in just two years and its already damaged credibility is at further risk.</p><p>El-Erian said the peak will be higher, and it’s more a question of the speed at which the Fed will reach that point.</p><p>“It is often said that the first rule of finding yourself in a hole is to stop digging. With the Fed having already dug itself a deep hole, it is no longer crystal clear to me what the right policy step should be now. I suspect I am not the only one.”</p><p>Mortgage rates in the US increased this past week, further crimping affordability ahead of what’s usually the homebuying market’s busiest season.</p><p>The average for a 30-year, fixed loan was 6.65 per cent, up from 6.5 per cent last week, Freddie Mac said in a statement.</p><p>Eurozone inflation slowed less than expected, putting more pressure on rates. February’s headline figure of 8.5 per cent exceeded the 8.3 per cent median estimate in a Bloomberg survey of economists and compares with an advance of 8.6 per cent in January.</p><p>Core inflation — the key focus right now for policymakers — quickened to 5.6 per cent from 5.3 per cent.</p><p>In the US overnight, applications for unemployment benefits eased last week, a sign of continuing strength in the labour market.</p><h2>Today\\'s agenda</h2><p>Local: Housing finance January; NZ February ANZ consumer confidence</p><p>Overseas data: February services PMIs from China, Eurozone, UK and US; Eurozone January PPI</p><h2>Other top stories</h2><p><x-placeholder id=\"f15e84675f5c8e82603d27900b42560a07a91d4d\"></x-placeholder> Experts including Geoff Wilson say the proposal to tax unrealised gains in $3 million-plus super accounts could force retirees to sell shares at a loss.</p><p><x-placeholder id=\"e5bbcb4217760a12be9f805b66360de434f2f3db\"></x-placeholder> The super wars present an awkward choice for teal and other independents, who not only campaigned heavily on integrity, but represent the wealthiest electorates, writes Phillip Coorey.</p><p><x-placeholder id=\"c4d458abe21002df182763630f6f1f4aa4ecd856\"></x-placeholder> The deceptively simply solution is a flat, low-rate tax and small concession for superannuation contributions.</p><h2>Market highlights</h2><p>ASX futures up 22 points or 0.31% to 7224 near 6.50am AEDT</p><ul><li>AUD -0.5% to 67.28 US cents</li><li>Bitcoin +0.2% to $US23,459 at 6.55am AEDT</li><li>On Wall St at 2.55pm: Dow +0.8% S&amp;P +0.5% Nasdaq +0.4%</li><li>In New York: BHP +2.7% Rio +1.1% Atlassian +2,3%</li><li>Tesla -6.4% Apple +0.3% Amazon -1.1%</li><li>In Europe: Stoxx 50 +0.6% FTSE +0.4% CAC +0.7% DAX +0.2%</li><li>Spot gold -0.01% to $US1836.54/oz at 2.05pm in New York</li><li>Brent crude +0.2% to $US84.49 a barrel</li><li>Iron ore +0.2% to $US126.30 a tonne</li><li>10-year yield: US 4.07% Australia 3.86% Germany 2.74%</li><li>US prices as of 2.57pm in New York</li></ul><h2>United States</h2><p>Salesforce surged by the most in almost three years after raising its forecast for profit margins and doubling stock buyback plans amid pressure from activist investors.</p><p>Operating margin — which has become a very closely watched metric for Salesforce — will be about 27 per cent in the fiscal 2024 that runs through next January, the software giant said. That trounced an average analyst estimate of 22.4 per cent in part due to recent jobs cuts.</p><p>In contrast, Silvergate Capital shares sank to a record low after the cryptocurrency-friendly bank said it wouldn’t be able to file its annual report on time and was reviewing whether it can remain viable.</p><p>Snowflake shares fell the most in almost 10 months after the business software company gave a disappointing sales outlook.</p><p>The company said product revenue will grow about 45 per cent to as much as $US573 million in the fiscal first quarter, which ends in April. Analysts were expecting $US582.1 million on average, according to data compiled by Bloomberg.</p><p>Credit Suisse’s take on February: “The S&amp;P 500 fell -2.4 per cent (including dividends) in February on multiple compression, while EPS was unchanged. Growth (-1.2 per cent) outperformed Value (-3.5 per cent), while Small Caps (-1.7 per cent) outperformed Large (-2.4 per cent). All sectors within the S&amp;P 500 delivered negative returns, save Technology, which was marginally positive (+0.4 per cent).”</p><h2>Commodities</h2><p>Lithium producer SQM delivered an upbeat outlook for the battery metal, forecasting demand to grow by about 25 per cent this year and stepping up investments to meet booming electric-vehicle sales.</p><p>Positive guidance Thursday from the world’s No. 2 lithium producer contrasts with that of Goldman Sachs’ analysts, who warned last month that a recent price pullback from record highs has much further to run given falling Chinese demand.</p><p>The contrasting sentiment centres around the impact of China removing EV subsidies and COVID-related disruptions at a time of growing supply. Santiago-based SQM said on Thursday that fundamentals remain strong, with EV sales improving in recent weeks in China and increasing in the US following the Inflation Reduction Act.</p><p>In its quarterly earnings statement, Soc. Quimica &amp; Minera de Chile SA, as SQM is formally known, laid out a $US3.4 billion capital expenditure plan for 2023 to 2025, with more than half earmarked for the battery metal.</p><x-placeholder id=\"4c354413c73e529c0fe99c1710563f3255dd119e\"></x-placeholder>',\n",
       " 'wordCount': 1038,\n",
       " 'tags': ['before-the-bell',\n",
       "  'world-markets',\n",
       "  'shares',\n",
       "  'currencies',\n",
       "  'commodities',\n",
       "  'bonds',\n",
       "  'markets',\n",
       "  'equity-markets'],\n",
       " 'extra': None}"
      ]
     },
     "execution_count": 4,
     "metadata": {},
     "output_type": "execute_result"
    }
   ],
   "source": [
    "article.dict()"
   ]
  },
  {
   "cell_type": "code",
   "execution_count": null,
   "metadata": {},
   "outputs": [],
   "source": []
  }
 ],
 "metadata": {
  "kernelspec": {
   "display_name": "news_scraping-7nihIaGs",
   "language": "python",
   "name": "python3"
  },
  "language_info": {
   "codemirror_mode": {
    "name": "ipython",
    "version": 3
   },
   "file_extension": ".py",
   "mimetype": "text/x-python",
   "name": "python",
   "nbconvert_exporter": "python",
   "pygments_lexer": "ipython3",
   "version": "3.10.5"
  },
  "orig_nbformat": 4,
  "vscode": {
   "interpreter": {
    "hash": "d17705aa10bf5f6a485faaacec7ad9ee71f1e8e3a532df8aa6fd3ece6d4ac1ad"
   }
  }
 },
 "nbformat": 4,
 "nbformat_minor": 2
}
